{
 "cells": [
  {
   "cell_type": "code",
   "execution_count": 1,
   "id": "141774dd-711a-4d62-baf4-a804057b5592",
   "metadata": {},
   "outputs": [],
   "source": [
    "import pandas as pd\n",
    "import numpy as np\n",
    "from datetime import datetime\n",
    "import pickle"
   ]
  },
  {
   "cell_type": "code",
   "execution_count": 2,
   "id": "a16fa3fd-80c4-4d6f-97a4-f93052eb9bf3",
   "metadata": {},
   "outputs": [],
   "source": [
    "df = pd.read_pickle(\"df.pkl\")"
   ]
  },
  {
   "cell_type": "markdown",
   "id": "9dd4fc0d-9864-4e8e-9632-e59a51e635b9",
   "metadata": {},
   "source": [
    "### Hands On \n",
    "* Can we handle the first 3 bullets using a custom function\n",
    "* Provide a \"misery index\" for airports. That is, sort the airports in descending order of the probability that a flight departing from that airport has a delay. Take care of outliers: some airports may have a preposterously low number of flights\n",
    "* Then, go around your data again, but this time the criterion will be the average and median delay you may expect to have with an airline. Again we do not care about outliers.\n",
    "* Provide a \"misery index\" for airlines. That is, do the same thing you did for the airports, but this time we are interested in the airlines that make life difficult for passengers. Sort the airlines in descending order of probability that a flight operated by the airline has a delay. This time we do not care about outliers.\n",
    "* We are interested in the temporal distribution of delays, so create a plot that shows the number of flights and the number of delayed flights per month of year.\n",
    "* Provide a table that shows, for each possible origin and destination, which airline has the best performance, in terms of mean departure delay. With this table at hand, show how you can determine the best airline for a particular pair of origin and destination airports."
   ]
  },
  {
   "cell_type": "code",
   "execution_count": null,
   "id": "83300952-2760-47ad-90ab-7574f53fd5d0",
   "metadata": {},
   "outputs": [],
   "source": []
  }
 ],
 "metadata": {
  "kernelspec": {
   "display_name": "Python 3",
   "language": "python",
   "name": "python3"
  },
  "language_info": {
   "codemirror_mode": {
    "name": "ipython",
    "version": 3
   },
   "file_extension": ".py",
   "mimetype": "text/x-python",
   "name": "python",
   "nbconvert_exporter": "python",
   "pygments_lexer": "ipython3",
   "version": "3.8.8"
  }
 },
 "nbformat": 4,
 "nbformat_minor": 5
}
