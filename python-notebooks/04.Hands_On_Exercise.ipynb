{
 "cells": [
  {
   "cell_type": "code",
   "execution_count": 1,
   "id": "141774dd-711a-4d62-baf4-a804057b5592",
   "metadata": {},
   "outputs": [],
   "source": [
    "import pandas as pd\n",
    "import numpy as np\n",
    "from datetime import datetime\n",
    "import pickle\n",
    "import matplotlib.pyplot as plt"
   ]
  },
  {
   "cell_type": "code",
   "execution_count": 2,
   "id": "a16fa3fd-80c4-4d6f-97a4-f93052eb9bf3",
   "metadata": {},
   "outputs": [],
   "source": [
    "df = pd.read_pickle(\"df.pkl\")"
   ]
  },
  {
   "cell_type": "code",
   "execution_count": 3,
   "id": "51b89f16-1f7b-4769-aa0c-73cb77e10fc5",
   "metadata": {},
   "outputs": [
    {
     "data": {
      "text/plain": [
       "Index(['day', 'year', 'month', 'carrier', 'carrier_name', 'airport',\n",
       "       'airport_name', 'arrival_flights', 'arrival_del15', 'carrier_count',\n",
       "       'weather_count', 'nas_count', 'security_count', 'late_aircraft_count',\n",
       "       'arrival_cancelled', 'arrival_diverted', 'arrival_delay',\n",
       "       'carrier_delay', 'weather_delay', 'nas_delay', 'security_delay',\n",
       "       'late_aircraft_delay', 'date', 'week_day', 'quarter', 'quarter_w_cut',\n",
       "       'county_state', 'county', 'state', 'state_name'],\n",
       "      dtype='object')"
      ]
     },
     "execution_count": 3,
     "metadata": {},
     "output_type": "execute_result"
    }
   ],
   "source": [
    "df.columns"
   ]
  },
  {
   "cell_type": "markdown",
   "id": "7c4e9e6e-f85d-4ae0-bc97-4e73e86754d5",
   "metadata": {},
   "source": [
    "Information about the data\n",
    "\n",
    "- year:                Year data collected\n",
    "- month:               Numeric representation of the month\n",
    "- carrier:             Carrier.\n",
    "- carrier_name:        Carrier Name.\n",
    "- airport:             Airport code.\n",
    "- airport_name:        Name of airport.\n",
    "- arrival_flights:         Number of flights arriving at airport\n",
    "- arrival_del15:           Number of flights more than 15 minutes late\n",
    "- carrier_count:          Number of flights delayed due to air carrier. (e.g. no crew)\n",
    "- weather_count:          Number of flights due to weather.\n",
    "- nas_count:              Number of flights delayed due to National Aviation System (e.g. heavy air traffic).\n",
    "- security_count:         Number of flights canceled due to a security breach.\n",
    "- late_aircraft_count:    Number of flights delayed as a result of another flight on the same aircraft delayed\n",
    "- arrival_cancelled:       Number of cancelled flights\n",
    "- arrival_diverted:        Number of flights that were diverted\n",
    "- arrival_delay:           Total time (minutes) of delayed flight.\n",
    "- carrier_delay:       Total time (minutes) of delay due to air carrier\n",
    "- weather_delay:       Total time (minutes) of delay due to inclement weather.\n",
    "- nas_delay:           Total time (minutes) of delay due to National Aviation System.\n",
    "- security_delay:      Total time (minutes) of delay as a result of a security issue .\n",
    "- late_aircraft_delay: Total time (minutes) of delay flights as a result of a previous flight on the same airplane being late.\n"
   ]
  },
  {
   "cell_type": "markdown",
   "id": "9dd4fc0d-9864-4e8e-9632-e59a51e635b9",
   "metadata": {},
   "source": [
    "### Hands On "
   ]
  },
  {
   "cell_type": "markdown",
   "id": "5feb0fa5-3e53-4267-94ae-e65402df3a8b",
   "metadata": {},
   "source": [
    "**Provide a \"misery index\" for airports. That is, sort the airports in descending order of the probability that a flight ~~departing from~~ arriving to that airport has a delay. Take care of outliers: some airports may have a preposterously low number of flights**"
   ]
  },
  {
   "cell_type": "code",
   "execution_count": null,
   "id": "e6b2e687-8b6d-44a0-905f-96a897ce47c6",
   "metadata": {},
   "outputs": [],
   "source": []
  },
  {
   "cell_type": "markdown",
   "id": "c9052058-3139-4903-b1cd-7668b9bf5611",
   "metadata": {},
   "source": [
    "**This time the criterion will be the average and median delay you may expect to have with an ~~airline~~ airport. Again we do ~~not~~ care about outliers.**"
   ]
  },
  {
   "cell_type": "code",
   "execution_count": null,
   "id": "a1dd98d7-0cc2-4b0f-865f-2060da54bc5d",
   "metadata": {},
   "outputs": [],
   "source": []
  },
  {
   "cell_type": "markdown",
   "id": "2c7a1e86-b3ca-4f4a-8ab5-4114799832a5",
   "metadata": {},
   "source": [
    "**Provide a \"misery index\" for airlines. That is, do the same thing you did for the airports, but this time we are interested in the airlines that make life difficult for passengers. Sort the airlines in descending order of probability that a flight operated by the airline has a delay. This time we do not care about outliers.**"
   ]
  },
  {
   "cell_type": "code",
   "execution_count": null,
   "id": "8ece01f8-2925-4a80-9106-607c97712d3c",
   "metadata": {},
   "outputs": [],
   "source": []
  },
  {
   "cell_type": "markdown",
   "id": "df65cf93-6adc-4efc-9dd4-9a192c459904",
   "metadata": {},
   "source": [
    "**We are interested in the temporal distribution of delays, so create a plot that shows the number of flights and the number of delayed flights per month of year.**"
   ]
  },
  {
   "cell_type": "code",
   "execution_count": null,
   "id": "d97e9e36-4a30-42c2-9f6c-4a28ff9081f2",
   "metadata": {},
   "outputs": [],
   "source": []
  },
  {
   "cell_type": "markdown",
   "id": "1109c015-0a27-457c-b3c3-e396fe9d471b",
   "metadata": {},
   "source": [
    "**Provide a table that shows, for each possible origin and destination, which airline has the best performance, in terms of mean departure delay. With this table at hand, show how you can determine the best airline for a particular pair of origin and destination airports.**\n",
    "\n",
    "## NOT APPLICABLE HERE"
   ]
  },
  {
   "cell_type": "code",
   "execution_count": null,
   "id": "46f50b45-0148-47de-9417-b04116d72ab8",
   "metadata": {},
   "outputs": [],
   "source": []
  }
 ],
 "metadata": {
  "kernelspec": {
   "display_name": "Python 3",
   "language": "python",
   "name": "python3"
  },
  "language_info": {
   "codemirror_mode": {
    "name": "ipython",
    "version": 3
   },
   "file_extension": ".py",
   "mimetype": "text/x-python",
   "name": "python",
   "nbconvert_exporter": "python",
   "pygments_lexer": "ipython3",
   "version": "3.8.8"
  },
  "toc-showcode": true
 },
 "nbformat": 4,
 "nbformat_minor": 5
}
