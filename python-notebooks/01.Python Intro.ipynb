{
 "cells": [
  {
   "cell_type": "markdown",
   "id": "4523b874-972f-43cb-be1f-7db26c94e21d",
   "metadata": {},
   "source": [
    "### Python datastructures"
   ]
  },
  {
   "cell_type": "markdown",
   "id": "2c4f118b-6e2e-4db5-90e3-9bdea237ee3d",
   "metadata": {},
   "source": [
    "1. **Lists**\n",
    "    * store different kind of datatypes\n",
    "    * ['pandas','dplyr',True,False,-0.1]\n",
    "    \n",
    "2. **Dictionary** \n",
    "    \n",
    "    * {'Python': 'pandas', 'R': 'dplyr'}\n",
    "    * key-value pairs; facilitate quick retrieval based on key\n",
    "    \n",
    "3. **Tuples**\n",
    "    * (0,1.2)\n",
    "    * immutable objects \n",
    "    \n",
    "4. **Sets**\n",
    "    * {1,2,3}\n",
    "    * Cannot contain duplicate value\n",
    "    \n",
    "5. **DataFrames**\n",
    "    * import pandas as pd\n",
    "    * pd.DataFrame constist of pd.Series"
   ]
  },
  {
   "cell_type": "markdown",
   "id": "323b69a7-008f-4e84-a2b5-099e976446f9",
   "metadata": {
    "tags": []
   },
   "source": [
    "### Lists"
   ]
  },
  {
   "cell_type": "code",
   "execution_count": 2,
   "id": "5246ead7-1571-4863-bab0-6441f59794de",
   "metadata": {},
   "outputs": [],
   "source": [
    "mylist = ['apple','NOT AGAIN',\n",
    "          'strawberry', 'Bob_sponge',\"hjbdscjknds\",\n",
    "          'DRAGON','cherry',\n",
    "          'SKYLIIIIII','watermelon']"
   ]
  },
  {
   "cell_type": "code",
   "execution_count": 3,
   "id": "3c7a7f00-d390-4294-8c9f-05d89adca31e",
   "metadata": {},
   "outputs": [
    {
     "data": {
      "text/plain": [
       "list"
      ]
     },
     "execution_count": 3,
     "metadata": {},
     "output_type": "execute_result"
    }
   ],
   "source": [
    "type(mylist)"
   ]
  },
  {
   "cell_type": "code",
   "execution_count": 4,
   "id": "207e1b9d-65fb-4598-bb50-9fb4d54d2b76",
   "metadata": {},
   "outputs": [
    {
     "data": {
      "text/plain": [
       "8"
      ]
     },
     "execution_count": 4,
     "metadata": {},
     "output_type": "execute_result"
    }
   ],
   "source": [
    "len(mylist)"
   ]
  },
  {
   "cell_type": "code",
   "execution_count": 5,
   "id": "16404346-96e2-4023-8bdf-2f29a3573628",
   "metadata": {},
   "outputs": [
    {
     "data": {
      "text/plain": [
       "'SKYLIIIIII'"
      ]
     },
     "execution_count": 5,
     "metadata": {},
     "output_type": "execute_result"
    }
   ],
   "source": [
    "mylist[6]"
   ]
  },
  {
   "cell_type": "code",
   "execution_count": 6,
   "id": "be0be58c-c8e8-4f8a-8a4c-490dba5102e2",
   "metadata": {},
   "outputs": [
    {
     "data": {
      "text/plain": [
       "'NOT AGAIN'"
      ]
     },
     "execution_count": 6,
     "metadata": {},
     "output_type": "execute_result"
    }
   ],
   "source": [
    "mylist.pop(1)"
   ]
  },
  {
   "cell_type": "markdown",
   "id": "5cc2cdde-44cc-44bc-8a2f-d44f6c1387cd",
   "metadata": {},
   "source": [
    "* **pop** changed our initial list"
   ]
  },
  {
   "cell_type": "code",
   "execution_count": 7,
   "id": "2fb900a7-dfd1-44ba-80fd-ab5b118c8e0d",
   "metadata": {},
   "outputs": [
    {
     "data": {
      "text/plain": [
       "['apple',\n",
       " 'PIKACHU',\n",
       " 'strawberry',\n",
       " 'Bob_spongeDRAGON',\n",
       " 'cherry',\n",
       " 'SKYLIIIIII',\n",
       " 'watermelon']"
      ]
     },
     "execution_count": 7,
     "metadata": {},
     "output_type": "execute_result"
    }
   ],
   "source": [
    "mylist"
   ]
  },
  {
   "cell_type": "code",
   "execution_count": 118,
   "id": "5c2e5d8e-b49f-4d53-91a0-0da068970507",
   "metadata": {},
   "outputs": [
    {
     "data": {
      "text/plain": [
       "['apple', 'strawberry', 'cherry', 'watermelon']"
      ]
     },
     "execution_count": 118,
     "metadata": {},
     "output_type": "execute_result"
    }
   ],
   "source": [
    "red_fruits = mylist[::2]\n",
    "red_fruits"
   ]
  },
  {
   "cell_type": "markdown",
   "id": "4bc45946-e05f-4d58-9b28-5592bd2561ac",
   "metadata": {},
   "source": [
    "* append an items into the list"
   ]
  },
  {
   "cell_type": "code",
   "execution_count": 119,
   "id": "5d913a61-c7c1-4e34-8aee-68be744ff97e",
   "metadata": {},
   "outputs": [],
   "source": [
    "red_fruits.append('raspberry')"
   ]
  },
  {
   "cell_type": "code",
   "execution_count": 120,
   "id": "cc16b182-a2cb-4a7c-b058-2e1a7626d4cf",
   "metadata": {},
   "outputs": [
    {
     "data": {
      "text/plain": [
       "['apple', 'strawberry', 'cherry', 'watermelon', 'raspberry']"
      ]
     },
     "execution_count": 120,
     "metadata": {},
     "output_type": "execute_result"
    }
   ],
   "source": [
    "red_fruits"
   ]
  },
  {
   "cell_type": "code",
   "execution_count": 121,
   "id": "7ccdb20f-3eaf-4f87-91cf-5ed3313191c6",
   "metadata": {},
   "outputs": [
    {
     "data": {
      "text/plain": [
       "['apple',\n",
       " 'strawberry',\n",
       " 'cherry',\n",
       " 'watermelon',\n",
       " 'raspberry',\n",
       " 'grape',\n",
       " 'pear',\n",
       " 'papaya']"
      ]
     },
     "execution_count": 121,
     "metadata": {},
     "output_type": "execute_result"
    }
   ],
   "source": [
    "green_fruits = ['grape','pear','papaya']\n",
    "more_fruits = red_fruits + green_fruits\n",
    "more_fruits"
   ]
  },
  {
   "cell_type": "markdown",
   "id": "2ad37954-51bc-432e-9dd5-fcafc2013b4e",
   "metadata": {},
   "source": [
    "* enxtend the list by adding a **list** of new items"
   ]
  },
  {
   "cell_type": "code",
   "execution_count": 122,
   "id": "47e16b90-670c-49a4-bc29-b69c04b46cd9",
   "metadata": {},
   "outputs": [],
   "source": [
    "yellow_fruits = ['mango','melon','apricot']\n",
    "more_fruits.extend(yellow_fruits)"
   ]
  },
  {
   "cell_type": "markdown",
   "id": "909bdb8b-c59f-4ccd-8d70-295efcef6e4f",
   "metadata": {},
   "source": [
    "* list is now extended and contains more items"
   ]
  },
  {
   "cell_type": "code",
   "execution_count": 123,
   "id": "21720d6a-19cf-4793-ad1f-d2384e6c656e",
   "metadata": {},
   "outputs": [
    {
     "data": {
      "text/plain": [
       "['apple',\n",
       " 'strawberry',\n",
       " 'cherry',\n",
       " 'watermelon',\n",
       " 'raspberry',\n",
       " 'grape',\n",
       " 'pear',\n",
       " 'papaya',\n",
       " 'mango',\n",
       " 'melon',\n",
       " 'apricot']"
      ]
     },
     "execution_count": 123,
     "metadata": {},
     "output_type": "execute_result"
    }
   ],
   "source": [
    "more_fruits"
   ]
  },
  {
   "cell_type": "code",
   "execution_count": 124,
   "id": "8116d6f2-67eb-4d24-82cd-c241d0f09ece",
   "metadata": {},
   "outputs": [
    {
     "data": {
      "text/plain": [
       "['apple',\n",
       " 'apricot',\n",
       " 'cherry',\n",
       " 'grape',\n",
       " 'mango',\n",
       " 'melon',\n",
       " 'papaya',\n",
       " 'pear',\n",
       " 'raspberry',\n",
       " 'strawberry',\n",
       " 'watermelon']"
      ]
     },
     "execution_count": 124,
     "metadata": {},
     "output_type": "execute_result"
    }
   ],
   "source": [
    "sorted(more_fruits)"
   ]
  },
  {
   "cell_type": "markdown",
   "id": "ea38fd7e-5a8e-435c-82cf-ef504af30346",
   "metadata": {},
   "source": [
    "* order did not change - sorted is not in place operation"
   ]
  },
  {
   "cell_type": "code",
   "execution_count": 125,
   "id": "621c14f9-832a-4512-b392-9ac2b3e69056",
   "metadata": {},
   "outputs": [
    {
     "data": {
      "text/plain": [
       "['apple',\n",
       " 'strawberry',\n",
       " 'cherry',\n",
       " 'watermelon',\n",
       " 'raspberry',\n",
       " 'grape',\n",
       " 'pear',\n",
       " 'papaya',\n",
       " 'mango',\n",
       " 'melon',\n",
       " 'apricot']"
      ]
     },
     "execution_count": 125,
     "metadata": {},
     "output_type": "execute_result"
    }
   ],
   "source": [
    "more_fruits"
   ]
  },
  {
   "cell_type": "markdown",
   "id": "1436d90f-0b9c-4f4e-8313-dbf62b1b3b85",
   "metadata": {},
   "source": [
    "* How to keep only fruits starting with 'a'"
   ]
  },
  {
   "cell_type": "code",
   "execution_count": 278,
   "id": "61b85e11-c18d-4c01-913f-0421cf9ea9b5",
   "metadata": {},
   "outputs": [
    {
     "name": "stdout",
     "output_type": "stream",
     "text": [
      "-----> apple starts with \"a\" <-----\n",
      "strawberry starts with \"s\"\n",
      "cherry starts with \"c\"\n",
      "watermelon starts with \"w\"\n",
      "raspberry starts with \"r\"\n",
      "grape starts with \"g\"\n",
      "pear starts with \"p\"\n",
      "papaya starts with \"p\"\n",
      "mango starts with \"m\"\n",
      "melon starts with \"m\"\n",
      "-----> apricot starts with \"a\" <-----\n"
     ]
    }
   ],
   "source": [
    "fruits_from_a = []\n",
    "for x in more_fruits:\n",
    "    if x[0] == 'a':\n",
    "        print(f'-----> {x} starts with \"a\" <-----')\n",
    "        fruits_from_a.append(x)\n",
    "    else : \n",
    "        print(f'{x} starts with \"{x[0]}\"')"
   ]
  },
  {
   "cell_type": "code",
   "execution_count": 279,
   "id": "02b60fe5-4c94-471c-899c-cad80060358d",
   "metadata": {},
   "outputs": [
    {
     "data": {
      "text/plain": [
       "['apple', 'apricot']"
      ]
     },
     "execution_count": 279,
     "metadata": {},
     "output_type": "execute_result"
    }
   ],
   "source": [
    "fruits_from_a"
   ]
  },
  {
   "cell_type": "markdown",
   "id": "e6c9b050-ff31-4e81-9327-03f83873e8ff",
   "metadata": {},
   "source": [
    "* Alternatively, we can use list comprehensions"
   ]
  },
  {
   "cell_type": "code",
   "execution_count": 126,
   "id": "04cca24c-c161-472c-ba70-ca66382df8dd",
   "metadata": {},
   "outputs": [
    {
     "data": {
      "text/plain": [
       "['apple', 'apricot']"
      ]
     },
     "execution_count": 126,
     "metadata": {},
     "output_type": "execute_result"
    }
   ],
   "source": [
    "fruits_starts_a = [x for x in more_fruits if x.startswith('a')]\n",
    "fruits_starts_a"
   ]
  },
  {
   "cell_type": "markdown",
   "id": "190c0f86-00de-4b62-9980-0baa1ed000cf",
   "metadata": {},
   "source": [
    "* another **List Comprehension** example\n",
    "* Check existence"
   ]
  },
  {
   "cell_type": "code",
   "execution_count": 131,
   "id": "f08ccef1-f4e1-4475-9247-79844fe5afb3",
   "metadata": {},
   "outputs": [
    {
     "data": {
      "text/plain": [
       "['apple',\n",
       " 'strawberry',\n",
       " 'cherry',\n",
       " 'watermelon',\n",
       " 'raspberry',\n",
       " 'mango',\n",
       " 'melon',\n",
       " 'apricot']"
      ]
     },
     "execution_count": 131,
     "metadata": {},
     "output_type": "execute_result"
    }
   ],
   "source": [
    "not_green_fruits = [x for x in more_fruits if x not in green_fruits]\n",
    "not_green_fruits"
   ]
  },
  {
   "cell_type": "markdown",
   "id": "68529670-a296-4817-a2d8-1eddfe17b566",
   "metadata": {},
   "source": [
    "### Sets"
   ]
  },
  {
   "cell_type": "markdown",
   "id": "2feb59af-5f9f-4972-ae3e-885b5c97b7bc",
   "metadata": {},
   "source": [
    "* How to get yellow fruits using set operations\n",
    "* Set : not_green_fruits - red_fruits"
   ]
  },
  {
   "cell_type": "code",
   "execution_count": 232,
   "id": "ee1a65d7-98b0-4d99-8978-5b8e51277f31",
   "metadata": {},
   "outputs": [
    {
     "data": {
      "text/plain": [
       "{'apricot', 'mango', 'melon'}"
      ]
     },
     "execution_count": 232,
     "metadata": {},
     "output_type": "execute_result"
    }
   ],
   "source": [
    "yellow_fruits_set = set(not_green_fruits).difference(red_fruits)\n",
    "yellow_fruits_set"
   ]
  },
  {
   "cell_type": "code",
   "execution_count": 233,
   "id": "14da6e16-fc01-433d-a8dc-ae06016134ca",
   "metadata": {},
   "outputs": [
    {
     "data": {
      "text/plain": [
       "set"
      ]
     },
     "execution_count": 233,
     "metadata": {},
     "output_type": "execute_result"
    }
   ],
   "source": [
    "type(yellow_fruits_set)"
   ]
  },
  {
   "cell_type": "code",
   "execution_count": 238,
   "id": "e9d81dc6-94e5-4962-9b84-ac9f2b3e9f84",
   "metadata": {},
   "outputs": [
    {
     "data": {
      "text/plain": [
       "['apricot',\n",
       " 'melon',\n",
       " 'mango',\n",
       " 'apricot',\n",
       " 'melon',\n",
       " 'mango',\n",
       " 'apricot',\n",
       " 'melon',\n",
       " 'mango']"
      ]
     },
     "execution_count": 238,
     "metadata": {},
     "output_type": "execute_result"
    }
   ],
   "source": [
    "list(yellow_fruits_set) * 3"
   ]
  },
  {
   "cell_type": "code",
   "execution_count": 237,
   "id": "2c4abc86-8e06-49ca-ac97-1ad12778a009",
   "metadata": {},
   "outputs": [
    {
     "data": {
      "text/plain": [
       "{'apricot', 'mango', 'melon'}"
      ]
     },
     "execution_count": 237,
     "metadata": {},
     "output_type": "execute_result"
    }
   ],
   "source": [
    "set(list(yellow_fruits_set) * 3)"
   ]
  },
  {
   "cell_type": "markdown",
   "id": "87488d0e-a3fd-46d6-81e8-58886c4ab09d",
   "metadata": {},
   "source": [
    "### Dictionary"
   ]
  },
  {
   "cell_type": "code",
   "execution_count": 182,
   "id": "83f1cbaa-0059-429a-8b28-63377d7de6e6",
   "metadata": {},
   "outputs": [],
   "source": [
    "lang = {1:'Python',2:'R',3:'Julia',4:'Javascript',5:'SQL'}"
   ]
  },
  {
   "cell_type": "code",
   "execution_count": 183,
   "id": "595424e6-36f2-4f5e-b76d-d4918ac1424a",
   "metadata": {},
   "outputs": [
    {
     "data": {
      "text/plain": [
       "'Python'"
      ]
     },
     "execution_count": 183,
     "metadata": {},
     "output_type": "execute_result"
    }
   ],
   "source": [
    "lang[1]"
   ]
  },
  {
   "cell_type": "code",
   "execution_count": 194,
   "id": "9e37a693-b80a-42fe-a8ac-64b9c3182f8a",
   "metadata": {},
   "outputs": [
    {
     "ename": "TypeError",
     "evalue": "can only concatenate str (not \"int\") to str",
     "output_type": "error",
     "traceback": [
      "\u001b[1;31m---------------------------------------------------------------------------\u001b[0m",
      "\u001b[1;31mTypeError\u001b[0m                                 Traceback (most recent call last)",
      "Input \u001b[1;32mIn [194]\u001b[0m, in \u001b[0;36m<cell line: 1>\u001b[1;34m()\u001b[0m\n\u001b[0;32m      1\u001b[0m \u001b[38;5;28;01mfor\u001b[39;00m x \u001b[38;5;129;01min\u001b[39;00m \u001b[38;5;28mrange\u001b[39m(\u001b[38;5;241m5\u001b[39m):\n\u001b[1;32m----> 2\u001b[0m     \u001b[38;5;28mprint\u001b[39m(\u001b[38;5;124;43m'\u001b[39;49m\u001b[38;5;124;43mSemester\u001b[39;49m\u001b[38;5;124;43m'\u001b[39;49m\u001b[43m \u001b[49m\u001b[38;5;241;43m+\u001b[39;49m\u001b[43m \u001b[49m\u001b[43mx\u001b[49m \u001b[38;5;241m+\u001b[39m \u001b[38;5;124m'\u001b[39m\u001b[38;5;124m:\u001b[39m\u001b[38;5;124m'\u001b[39m \u001b[38;5;241m+\u001b[39m lang[x])\n",
      "\u001b[1;31mTypeError\u001b[0m: can only concatenate str (not \"int\") to str"
     ]
    }
   ],
   "source": [
    "for x in range(5):\n",
    "    print('Semester' + x + ':' + lang[x])"
   ]
  },
  {
   "cell_type": "code",
   "execution_count": 185,
   "id": "7819ad66-bd9b-413f-ab13-6de504b15a43",
   "metadata": {},
   "outputs": [
    {
     "data": {
      "text/plain": [
       "[0, 1, 2, 3, 4]"
      ]
     },
     "execution_count": 185,
     "metadata": {},
     "output_type": "execute_result"
    }
   ],
   "source": [
    "list(range(5))"
   ]
  },
  {
   "cell_type": "markdown",
   "id": "334dcf35-b087-4df2-b090-36a270cbf5b6",
   "metadata": {},
   "source": [
    "* KeyError suggests there is 0 key to be retrieved\n",
    "* using \"get\" insread of \"[]\" returns \"None\" rather than an error"
   ]
  },
  {
   "cell_type": "code",
   "execution_count": 195,
   "id": "a4220034-e950-4a59-9376-123792be303f",
   "metadata": {},
   "outputs": [
    {
     "name": "stdout",
     "output_type": "stream",
     "text": [
      "None\n",
      "Python\n",
      "R\n",
      "Julia\n",
      "Javascript\n"
     ]
    }
   ],
   "source": [
    "for x in range(5):\n",
    "    print(lang.get(x))"
   ]
  },
  {
   "cell_type": "markdown",
   "id": "4192d8fe-b4e0-4281-bb3f-5e0edcd7a998",
   "metadata": {},
   "source": [
    "* Although this worked... Dont be that guy\n",
    "* For **dict** remember : items, keys, values"
   ]
  },
  {
   "cell_type": "code",
   "execution_count": 179,
   "id": "5d33074a-4760-4f71-9c6e-54a48aa67df3",
   "metadata": {},
   "outputs": [
    {
     "data": {
      "text/plain": [
       "dict_keys([1, 2, 3, 4, 5])"
      ]
     },
     "execution_count": 179,
     "metadata": {},
     "output_type": "execute_result"
    }
   ],
   "source": [
    "lang.keys()"
   ]
  },
  {
   "cell_type": "code",
   "execution_count": 180,
   "id": "7859624c-ab10-440d-b160-6792653a0e4f",
   "metadata": {},
   "outputs": [
    {
     "data": {
      "text/plain": [
       "dict_values(['Python', 'R', 'Julia', 'Javascript', 'SQL'])"
      ]
     },
     "execution_count": 180,
     "metadata": {},
     "output_type": "execute_result"
    }
   ],
   "source": [
    "lang.values()"
   ]
  },
  {
   "cell_type": "markdown",
   "id": "d43ffe57-e851-49c6-93fc-ebb58e68bd00",
   "metadata": {},
   "source": [
    "* How to access keys and values at the same time"
   ]
  },
  {
   "cell_type": "code",
   "execution_count": 189,
   "id": "87dc22c6-65ae-4291-869a-00f49e79b3a1",
   "metadata": {},
   "outputs": [
    {
     "name": "stdout",
     "output_type": "stream",
     "text": [
      "1 Python\n",
      "2 R\n",
      "3 Julia\n",
      "4 Javascript\n",
      "5 SQL\n"
     ]
    }
   ],
   "source": [
    "for k,v in zip(lang.keys(),lang.values()):\n",
    "    print(k,v)"
   ]
  },
  {
   "cell_type": "markdown",
   "id": "b73921ff-4b66-4883-8aab-e0e2eeb9cd99",
   "metadata": {},
   "source": [
    "* Keep **zip** handy\n",
    "* Even better though : "
   ]
  },
  {
   "cell_type": "code",
   "execution_count": 178,
   "id": "c4e1bedf-eed3-4e97-8ab3-6e2fbb6d932f",
   "metadata": {},
   "outputs": [
    {
     "data": {
      "text/plain": [
       "dict_items([(1, 'Python'), (2, 'R'), (3, 'Julia'), (4, 'Javascript'), (5, 'SQL')])"
      ]
     },
     "execution_count": 178,
     "metadata": {},
     "output_type": "execute_result"
    }
   ],
   "source": [
    "lang.items()"
   ]
  },
  {
   "cell_type": "markdown",
   "id": "ef6c990c-ee97-4363-873b-2da69d019cb6",
   "metadata": {},
   "source": [
    "* Notice the 'f string' in the print statement"
   ]
  },
  {
   "cell_type": "code",
   "execution_count": 181,
   "id": "f45648d1-1814-498b-9b50-98c9e5be98d6",
   "metadata": {},
   "outputs": [
    {
     "name": "stdout",
     "output_type": "stream",
     "text": [
      "Semester 1 : Practice Python\n",
      "==================================================\n",
      "Semester 2 : Practice R\n",
      "==================================================\n",
      "Semester 3 : Practice Julia\n",
      "==================================================\n",
      "Semester 4 : Practice Javascript\n",
      "==================================================\n",
      "Semester 5 : Practice SQL\n",
      "==================================================\n"
     ]
    }
   ],
   "source": [
    "for k,v in lang.items():\n",
    "    print(f'Semester {k} : Practice {v}')\n",
    "    print(50 * '=')"
   ]
  },
  {
   "cell_type": "markdown",
   "id": "470504ca-2547-4a19-8746-d2c413441293",
   "metadata": {},
   "source": [
    "* How can we adjust the index so that is starts from 0?"
   ]
  },
  {
   "cell_type": "code",
   "execution_count": 190,
   "id": "2f308b3f-3290-4528-bb64-624dce354ab1",
   "metadata": {},
   "outputs": [
    {
     "data": {
      "text/plain": [
       "{1: 'Python', 2: 'R', 3: 'Julia', 4: 'Javascript', 5: 'SQL'}"
      ]
     },
     "execution_count": 190,
     "metadata": {},
     "output_type": "execute_result"
    }
   ],
   "source": [
    "lang"
   ]
  },
  {
   "cell_type": "code",
   "execution_count": 198,
   "id": "5364668d-77f6-425d-8492-badb6cbcaf2a",
   "metadata": {},
   "outputs": [
    {
     "name": "stdout",
     "output_type": "stream",
     "text": [
      "enumerate part : 0 <---> itens part : (1, 'Python')\n",
      "enumerate part : 1 <---> itens part : (2, 'R')\n",
      "enumerate part : 2 <---> itens part : (3, 'Julia')\n",
      "enumerate part : 3 <---> itens part : (4, 'Javascript')\n",
      "enumerate part : 4 <---> itens part : (5, 'SQL')\n"
     ]
    }
   ],
   "source": [
    "newdict = {}\n",
    "for i,x in enumerate(lang.items()):\n",
    "    print(f'enumerate part : {i} <---> itens part : {x}')\n",
    "    newdict[i] = x[1]"
   ]
  },
  {
   "cell_type": "code",
   "execution_count": 199,
   "id": "5c8c5c4c-83d6-4735-ad12-2c5df2724947",
   "metadata": {},
   "outputs": [
    {
     "data": {
      "text/plain": [
       "{0: 'Python', 1: 'R', 2: 'Julia', 3: 'Javascript', 4: 'SQL'}"
      ]
     },
     "execution_count": 199,
     "metadata": {},
     "output_type": "execute_result"
    }
   ],
   "source": [
    "newdict"
   ]
  },
  {
   "cell_type": "markdown",
   "id": "e4f464b9-c5cb-4001-a235-90d78fc1d489",
   "metadata": {},
   "source": [
    "* How could we make keys to be values, values to be keys and adjust index to start from 0, all at the same time?\n",
    "* **Reverse a dictionary**"
   ]
  },
  {
   "cell_type": "code",
   "execution_count": 239,
   "id": "a4896087-9530-4820-9b97-6be6ea0bf138",
   "metadata": {},
   "outputs": [
    {
     "data": {
      "text/plain": [
       "{1: 'Python', 2: 'R', 3: 'Julia', 4: 'Javascript', 5: 'SQL'}"
      ]
     },
     "execution_count": 239,
     "metadata": {},
     "output_type": "execute_result"
    }
   ],
   "source": [
    "lang"
   ]
  },
  {
   "cell_type": "code",
   "execution_count": 240,
   "id": "ce73aaea-6b95-43af-a783-a077126da4b1",
   "metadata": {},
   "outputs": [
    {
     "data": {
      "text/plain": [
       "{'Python': 0, 'R': 1, 'Julia': 2, 'Javascript': 3, 'SQL': 4}"
      ]
     },
     "execution_count": 240,
     "metadata": {},
     "output_type": "execute_result"
    }
   ],
   "source": [
    "newestdict = {v[1]:k for k,v in enumerate(lang.items())}\n",
    "newestdict"
   ]
  },
  {
   "cell_type": "markdown",
   "id": "3cbc0057-c4a6-4c57-a438-fbba739536aa",
   "metadata": {},
   "source": [
    "* Read this for more info on [How to sort a dictionary](https://realpython.com/sort-python-dictionary/)"
   ]
  },
  {
   "cell_type": "markdown",
   "id": "1a8dfc81-dc24-49f3-bbac-86b6906385e0",
   "metadata": {},
   "source": [
    "* We could even use a tuple as the dictionary keys"
   ]
  },
  {
   "cell_type": "code",
   "execution_count": 202,
   "id": "633ea572-7db9-48f3-ba99-4cb82cc66d7b",
   "metadata": {},
   "outputs": [
    {
     "data": {
      "text/plain": [
       "{(0, 1): 'Python',\n",
       " (1, 2): 'R',\n",
       " (2, 3): 'Julia',\n",
       " (3, 4): 'Javascript',\n",
       " (4, 5): 'SQL'}"
      ]
     },
     "execution_count": 202,
     "metadata": {},
     "output_type": "execute_result"
    }
   ],
   "source": [
    "what_a_dict = {(k,v[0]):v[1] for k,v in enumerate(lang.items())}\n",
    "what_a_dict"
   ]
  },
  {
   "cell_type": "code",
   "execution_count": 241,
   "id": "008b5e69-4642-4b70-8ddf-a5ebc624e3f6",
   "metadata": {},
   "outputs": [
    {
     "data": {
      "text/plain": [
       "(0, 1)"
      ]
     },
     "execution_count": 241,
     "metadata": {},
     "output_type": "execute_result"
    }
   ],
   "source": [
    "what_to_find = (0,1)\n",
    "what_to_find"
   ]
  },
  {
   "cell_type": "code",
   "execution_count": 242,
   "id": "e520792e-1702-4be9-abf2-322ab73794c8",
   "metadata": {},
   "outputs": [
    {
     "data": {
      "text/plain": [
       "tuple"
      ]
     },
     "execution_count": 242,
     "metadata": {},
     "output_type": "execute_result"
    }
   ],
   "source": [
    "type(what_to_find)"
   ]
  },
  {
   "cell_type": "code",
   "execution_count": 243,
   "id": "bb048d60-4e78-4150-b8cd-6ad40c598c82",
   "metadata": {},
   "outputs": [
    {
     "data": {
      "text/plain": [
       "'Python'"
      ]
     },
     "execution_count": 243,
     "metadata": {},
     "output_type": "execute_result"
    }
   ],
   "source": [
    "what_a_dict[what_to_find]"
   ]
  },
  {
   "cell_type": "code",
   "execution_count": 244,
   "id": "c016670e-be39-48f3-ae7c-d0dc2eeb984f",
   "metadata": {},
   "outputs": [
    {
     "data": {
      "text/plain": [
       "'Python'"
      ]
     },
     "execution_count": 244,
     "metadata": {},
     "output_type": "execute_result"
    }
   ],
   "source": [
    "what_a_dict.get(what_to_find)"
   ]
  },
  {
   "cell_type": "markdown",
   "id": "35b5b753-c8c8-49fd-8f78-9c1c58f9d0ea",
   "metadata": {},
   "source": [
    "* Some **Extras**\n",
    "* what methods, functions the dict object exposes?"
   ]
  },
  {
   "cell_type": "code",
   "execution_count": 162,
   "id": "2360caec-b94a-46fc-b3c6-81da471b9023",
   "metadata": {},
   "outputs": [
    {
     "data": {
      "text/plain": [
       "['__class__',\n",
       " '__dir__',\n",
       " '__getattribute__',\n",
       " '__init_subclass__',\n",
       " '__lt__',\n",
       " '__reduce_ex__',\n",
       " '__setitem__',\n",
       " 'copy',\n",
       " 'pop']"
      ]
     },
     "execution_count": 162,
     "metadata": {},
     "output_type": "execute_result"
    }
   ],
   "source": [
    "dir(lang)[::5]"
   ]
  },
  {
   "cell_type": "code",
   "execution_count": 147,
   "id": "e2d66cb0-29d2-4f96-a4b3-8a2f3a3556f1",
   "metadata": {},
   "outputs": [
    {
     "data": {
      "text/plain": [
       "['clear',\n",
       " 'copy',\n",
       " 'fromkeys',\n",
       " 'get',\n",
       " 'items',\n",
       " 'keys',\n",
       " 'pop',\n",
       " 'popitem',\n",
       " 'setdefault',\n",
       " 'update',\n",
       " 'values']"
      ]
     },
     "execution_count": 147,
     "metadata": {},
     "output_type": "execute_result"
    }
   ],
   "source": [
    "[x for x in dir(lang) if not x.startswith('__')]"
   ]
  },
  {
   "cell_type": "code",
   "execution_count": 165,
   "id": "b64ae00a-6c35-4146-acbb-3abb8383229a",
   "metadata": {},
   "outputs": [
    {
     "name": "stdout",
     "output_type": "stream",
     "text": [
      "* items : dict_items([(1, 'Python'), (2, 'R'), (3, 'Julia'), (4, 'Javascript'), (5, 'SQL')])\n",
      "* keys : dict_keys([1, 2, 3, 4, 5])\n",
      "* values : dict_values(['Python', 'R', 'Julia', 'Javascript', 'SQL'])\n"
     ]
    }
   ],
   "source": [
    "for x in ['items','keys','values']:\n",
    "    print(f'* {x} : {getattr(lang,x)()}')"
   ]
  },
  {
   "cell_type": "code",
   "execution_count": 168,
   "id": "89d17103-1dfa-490e-b568-dd4028eb87c1",
   "metadata": {},
   "outputs": [
    {
     "data": {
      "text/plain": [
       "<function dict.keys>"
      ]
     },
     "execution_count": 168,
     "metadata": {},
     "output_type": "execute_result"
    }
   ],
   "source": [
    "getattr(lang,'keys')"
   ]
  },
  {
   "cell_type": "markdown",
   "id": "7d25d86b-4de0-4ada-97a1-7e75569781bf",
   "metadata": {},
   "source": [
    "* Notice the brackets at the end .. these denote is a function call"
   ]
  },
  {
   "cell_type": "code",
   "execution_count": 169,
   "id": "34a29ccd-f74d-49d7-bac7-09408afbc5cf",
   "metadata": {},
   "outputs": [
    {
     "data": {
      "text/plain": [
       "dict_keys([1, 2, 3, 4, 5])"
      ]
     },
     "execution_count": 169,
     "metadata": {},
     "output_type": "execute_result"
    }
   ],
   "source": [
    "getattr(lang,'keys')()"
   ]
  },
  {
   "cell_type": "markdown",
   "id": "a47c3662-7ebb-45bc-a58d-0d8415060cab",
   "metadata": {},
   "source": [
    "* Alternatively we could do :"
   ]
  },
  {
   "cell_type": "code",
   "execution_count": 188,
   "id": "5bf24b52-bb1c-4376-a5c6-828bee3038f1",
   "metadata": {},
   "outputs": [
    {
     "data": {
      "text/plain": [
       "dict_keys([1, 2, 3, 4, 5])"
      ]
     },
     "execution_count": 188,
     "metadata": {},
     "output_type": "execute_result"
    }
   ],
   "source": [
    "lang.__getattribute__('keys')()"
   ]
  },
  {
   "cell_type": "markdown",
   "id": "ad947191-80dc-4cde-8f25-ffefaa0f58b7",
   "metadata": {},
   "source": [
    "* All the languages starting from 'J' are not directly relevant at this point in time, so lets discard those from the dictionary."
   ]
  },
  {
   "cell_type": "code",
   "execution_count": 225,
   "id": "32991487-fa59-4c3f-848a-8a5f255190ff",
   "metadata": {},
   "outputs": [
    {
     "data": {
      "text/plain": [
       "{1: 'Python', 2: 'R', 3: 'Julia', 4: 'Javascript', 5: 'SQL'}"
      ]
     },
     "execution_count": 225,
     "metadata": {},
     "output_type": "execute_result"
    }
   ],
   "source": [
    "lang"
   ]
  },
  {
   "cell_type": "code",
   "execution_count": 226,
   "id": "8e26b2c8-5f42-4db3-af58-aa0aac2fea38",
   "metadata": {},
   "outputs": [
    {
     "data": {
      "text/plain": [
       "{1: 'Python', 2: 'R', 5: 'SQL'}"
      ]
     },
     "execution_count": 226,
     "metadata": {},
     "output_type": "execute_result"
    }
   ],
   "source": [
    "lang_not_j = {k:v for k,v in lang.items() if not v.startswith('J')}\n",
    "lang_not_j"
   ]
  },
  {
   "cell_type": "markdown",
   "id": "dbacffcc-6c3f-4ded-8eb2-a1ad32b9d7a4",
   "metadata": {},
   "source": [
    "### DataFrames"
   ]
  },
  {
   "cell_type": "markdown",
   "id": "a0115110-b345-40fd-b54c-dca765d8ba29",
   "metadata": {},
   "source": [
    "* First we need to import pandas\n",
    "* If not installed, or we need to update the library version, we can do so directly from jupyter notebook\n",
    "* Any command prefaced with \"!\" will be executed by the underlying kernel - this is jupyter specific"
   ]
  },
  {
   "cell_type": "code",
   "execution_count": null,
   "id": "f8a48777-2030-45f7-a4fd-9d5f6f9328ec",
   "metadata": {},
   "outputs": [],
   "source": [
    "!pip install --upgrade pandas"
   ]
  },
  {
   "cell_type": "code",
   "execution_count": 245,
   "id": "6e36c6d3-3680-431b-8953-023a88131df4",
   "metadata": {},
   "outputs": [],
   "source": [
    "import pandas as pd"
   ]
  },
  {
   "cell_type": "code",
   "execution_count": 246,
   "id": "283f7419-3324-44ec-a1e0-1abc2ff370b7",
   "metadata": {},
   "outputs": [
    {
     "name": "stdout",
     "output_type": "stream",
     "text": [
      "1.4.2\n"
     ]
    }
   ],
   "source": [
    "print(pd.__version__)"
   ]
  },
  {
   "cell_type": "code",
   "execution_count": 247,
   "id": "39c31408-52d9-48fc-a72a-04730a82cb7b",
   "metadata": {},
   "outputs": [
    {
     "data": {
      "text/plain": [
       "{1: 'Python', 2: 'R', 3: 'Julia', 4: 'Javascript', 5: 'SQL'}"
      ]
     },
     "execution_count": 247,
     "metadata": {},
     "output_type": "execute_result"
    }
   ],
   "source": [
    "lang"
   ]
  },
  {
   "cell_type": "code",
   "execution_count": 253,
   "id": "4212668f-39f7-4db0-bc5d-7b178a49f547",
   "metadata": {},
   "outputs": [
    {
     "data": {
      "text/html": [
       "<div>\n",
       "<style scoped>\n",
       "    .dataframe tbody tr th:only-of-type {\n",
       "        vertical-align: middle;\n",
       "    }\n",
       "\n",
       "    .dataframe tbody tr th {\n",
       "        vertical-align: top;\n",
       "    }\n",
       "\n",
       "    .dataframe thead th {\n",
       "        text-align: right;\n",
       "    }\n",
       "</style>\n",
       "<table border=\"1\" class=\"dataframe\">\n",
       "  <thead>\n",
       "    <tr style=\"text-align: right;\">\n",
       "      <th></th>\n",
       "      <th>language</th>\n",
       "    </tr>\n",
       "  </thead>\n",
       "  <tbody>\n",
       "    <tr>\n",
       "      <th>1</th>\n",
       "      <td>Python</td>\n",
       "    </tr>\n",
       "    <tr>\n",
       "      <th>2</th>\n",
       "      <td>R</td>\n",
       "    </tr>\n",
       "    <tr>\n",
       "      <th>3</th>\n",
       "      <td>Julia</td>\n",
       "    </tr>\n",
       "    <tr>\n",
       "      <th>4</th>\n",
       "      <td>Javascript</td>\n",
       "    </tr>\n",
       "    <tr>\n",
       "      <th>5</th>\n",
       "      <td>SQL</td>\n",
       "    </tr>\n",
       "  </tbody>\n",
       "</table>\n",
       "</div>"
      ],
      "text/plain": [
       "     language\n",
       "1      Python\n",
       "2           R\n",
       "3       Julia\n",
       "4  Javascript\n",
       "5         SQL"
      ]
     },
     "execution_count": 253,
     "metadata": {},
     "output_type": "execute_result"
    }
   ],
   "source": [
    "df = pd.DataFrame().from_dict(lang,orient='index',columns = ['language'])\n",
    "df"
   ]
  },
  {
   "cell_type": "markdown",
   "id": "f71ec05e-3259-4908-bd64-71ce517fb42c",
   "metadata": {},
   "source": [
    "* Basic functions on dataframes"
   ]
  },
  {
   "cell_type": "code",
   "execution_count": 256,
   "id": "39271d7b-66e5-448f-8063-2dfd506e5c9f",
   "metadata": {},
   "outputs": [
    {
     "data": {
      "text/plain": [
       "(5, 1)"
      ]
     },
     "execution_count": 256,
     "metadata": {},
     "output_type": "execute_result"
    }
   ],
   "source": [
    "df.shape"
   ]
  },
  {
   "cell_type": "code",
   "execution_count": 261,
   "id": "83670180-c1bb-4e39-a1da-bc567b6d109e",
   "metadata": {},
   "outputs": [
    {
     "data": {
      "text/plain": [
       "language    object\n",
       "dtype: object"
      ]
     },
     "execution_count": 261,
     "metadata": {},
     "output_type": "execute_result"
    }
   ],
   "source": [
    "df.dtypes"
   ]
  },
  {
   "cell_type": "code",
   "execution_count": 263,
   "id": "54ba75f5-ac2e-406c-839e-3d86f3580575",
   "metadata": {},
   "outputs": [
    {
     "name": "stdout",
     "output_type": "stream",
     "text": [
      "<class 'pandas.core.frame.DataFrame'>\n",
      "Int64Index: 5 entries, 1 to 5\n",
      "Data columns (total 1 columns):\n",
      " #   Column    Non-Null Count  Dtype \n",
      "---  ------    --------------  ----- \n",
      " 0   language  5 non-null      object\n",
      "dtypes: object(1)\n",
      "memory usage: 80.0+ bytes\n"
     ]
    }
   ],
   "source": [
    "df.info()"
   ]
  },
  {
   "cell_type": "code",
   "execution_count": 265,
   "id": "bde87f8b-3acc-4e0a-a55d-46a8f36d6ad8",
   "metadata": {},
   "outputs": [
    {
     "data": {
      "text/html": [
       "<div>\n",
       "<style scoped>\n",
       "    .dataframe tbody tr th:only-of-type {\n",
       "        vertical-align: middle;\n",
       "    }\n",
       "\n",
       "    .dataframe tbody tr th {\n",
       "        vertical-align: top;\n",
       "    }\n",
       "\n",
       "    .dataframe thead th {\n",
       "        text-align: right;\n",
       "    }\n",
       "</style>\n",
       "<table border=\"1\" class=\"dataframe\">\n",
       "  <thead>\n",
       "    <tr style=\"text-align: right;\">\n",
       "      <th></th>\n",
       "      <th>language</th>\n",
       "    </tr>\n",
       "  </thead>\n",
       "  <tbody>\n",
       "    <tr>\n",
       "      <th>1</th>\n",
       "      <td>Python</td>\n",
       "    </tr>\n",
       "    <tr>\n",
       "      <th>2</th>\n",
       "      <td>R</td>\n",
       "    </tr>\n",
       "    <tr>\n",
       "      <th>3</th>\n",
       "      <td>Julia</td>\n",
       "    </tr>\n",
       "  </tbody>\n",
       "</table>\n",
       "</div>"
      ],
      "text/plain": [
       "  language\n",
       "1   Python\n",
       "2        R\n",
       "3    Julia"
      ]
     },
     "execution_count": 265,
     "metadata": {},
     "output_type": "execute_result"
    }
   ],
   "source": [
    "df.head(3)"
   ]
  },
  {
   "cell_type": "code",
   "execution_count": 266,
   "id": "81d88b4f-6547-4fff-96e0-e5939749ce82",
   "metadata": {},
   "outputs": [
    {
     "data": {
      "text/html": [
       "<div>\n",
       "<style scoped>\n",
       "    .dataframe tbody tr th:only-of-type {\n",
       "        vertical-align: middle;\n",
       "    }\n",
       "\n",
       "    .dataframe tbody tr th {\n",
       "        vertical-align: top;\n",
       "    }\n",
       "\n",
       "    .dataframe thead th {\n",
       "        text-align: right;\n",
       "    }\n",
       "</style>\n",
       "<table border=\"1\" class=\"dataframe\">\n",
       "  <thead>\n",
       "    <tr style=\"text-align: right;\">\n",
       "      <th></th>\n",
       "      <th>language</th>\n",
       "    </tr>\n",
       "  </thead>\n",
       "  <tbody>\n",
       "    <tr>\n",
       "      <th>1</th>\n",
       "      <td>Python</td>\n",
       "    </tr>\n",
       "    <tr>\n",
       "      <th>2</th>\n",
       "      <td>R</td>\n",
       "    </tr>\n",
       "    <tr>\n",
       "      <th>3</th>\n",
       "      <td>Julia</td>\n",
       "    </tr>\n",
       "    <tr>\n",
       "      <th>4</th>\n",
       "      <td>Javascript</td>\n",
       "    </tr>\n",
       "    <tr>\n",
       "      <th>5</th>\n",
       "      <td>SQL</td>\n",
       "    </tr>\n",
       "  </tbody>\n",
       "</table>\n",
       "</div>"
      ],
      "text/plain": [
       "     language\n",
       "1      Python\n",
       "2           R\n",
       "3       Julia\n",
       "4  Javascript\n",
       "5         SQL"
      ]
     },
     "execution_count": 266,
     "metadata": {},
     "output_type": "execute_result"
    }
   ],
   "source": [
    "df.tail(93)"
   ]
  },
  {
   "cell_type": "code",
   "execution_count": 268,
   "id": "a159a872-3492-4ce8-a899-1ecbd479c043",
   "metadata": {},
   "outputs": [
    {
     "data": {
      "text/html": [
       "<div>\n",
       "<style scoped>\n",
       "    .dataframe tbody tr th:only-of-type {\n",
       "        vertical-align: middle;\n",
       "    }\n",
       "\n",
       "    .dataframe tbody tr th {\n",
       "        vertical-align: top;\n",
       "    }\n",
       "\n",
       "    .dataframe thead th {\n",
       "        text-align: right;\n",
       "    }\n",
       "</style>\n",
       "<table border=\"1\" class=\"dataframe\">\n",
       "  <thead>\n",
       "    <tr style=\"text-align: right;\">\n",
       "      <th></th>\n",
       "      <th>language</th>\n",
       "    </tr>\n",
       "  </thead>\n",
       "  <tbody>\n",
       "    <tr>\n",
       "      <th>count</th>\n",
       "      <td>5</td>\n",
       "    </tr>\n",
       "    <tr>\n",
       "      <th>unique</th>\n",
       "      <td>5</td>\n",
       "    </tr>\n",
       "    <tr>\n",
       "      <th>top</th>\n",
       "      <td>Python</td>\n",
       "    </tr>\n",
       "    <tr>\n",
       "      <th>freq</th>\n",
       "      <td>1</td>\n",
       "    </tr>\n",
       "  </tbody>\n",
       "</table>\n",
       "</div>"
      ],
      "text/plain": [
       "       language\n",
       "count         5\n",
       "unique        5\n",
       "top      Python\n",
       "freq          1"
      ]
     },
     "execution_count": 268,
     "metadata": {},
     "output_type": "execute_result"
    }
   ],
   "source": [
    "df.describe(include='all')"
   ]
  },
  {
   "cell_type": "markdown",
   "id": "8f8df845-18fc-435a-9052-c0cc47101898",
   "metadata": {},
   "source": [
    "* The anatomy of a dataframe includes the following : \n",
    "    1. columns \n",
    "    2. index\n",
    "    3. values\n",
    "* [Check this link](https://towardsdatascience.com/how-to-master-pandas-for-data-science-b8ab0a9b1042) for a better regarding the **anatomy** of a dataframe understanding"
   ]
  },
  {
   "cell_type": "code",
   "execution_count": 257,
   "id": "d056fb65-4f90-49ef-9b9e-afdce6eeeaf3",
   "metadata": {},
   "outputs": [
    {
     "data": {
      "text/plain": [
       "Index(['language'], dtype='object')"
      ]
     },
     "execution_count": 257,
     "metadata": {},
     "output_type": "execute_result"
    }
   ],
   "source": [
    "df.columns"
   ]
  },
  {
   "cell_type": "code",
   "execution_count": 258,
   "id": "c9cad034-c378-485b-94d9-a07ce195bfad",
   "metadata": {},
   "outputs": [
    {
     "data": {
      "text/plain": [
       "Int64Index([1, 2, 3, 4, 5], dtype='int64')"
      ]
     },
     "execution_count": 258,
     "metadata": {},
     "output_type": "execute_result"
    }
   ],
   "source": [
    "df.index"
   ]
  },
  {
   "cell_type": "code",
   "execution_count": 260,
   "id": "9b33602c-ccee-4236-8e4b-d746040f329f",
   "metadata": {},
   "outputs": [
    {
     "data": {
      "text/plain": [
       "numpy.ndarray"
      ]
     },
     "execution_count": 260,
     "metadata": {},
     "output_type": "execute_result"
    }
   ],
   "source": [
    "type(df.values)"
   ]
  },
  {
   "cell_type": "code",
   "execution_count": 271,
   "id": "601528c8-701e-43c6-adcf-bf46c15c1205",
   "metadata": {},
   "outputs": [
    {
     "data": {
      "text/plain": [
       "pandas.core.series.Series"
      ]
     },
     "execution_count": 271,
     "metadata": {},
     "output_type": "execute_result"
    }
   ],
   "source": [
    "type(df.language)"
   ]
  },
  {
   "cell_type": "markdown",
   "id": "459a1e96-284b-4bd3-8eac-d3a742892c25",
   "metadata": {},
   "source": [
    "### Summary"
   ]
  },
  {
   "cell_type": "markdown",
   "id": "811939b0-d079-4f09-a6f6-33ee980c26f2",
   "metadata": {},
   "source": [
    "* **list** [append, extend, pop, len]\n",
    "* **dictionary** [get,items,values,keys]\n",
    "* their comprehensions\n",
    "* set, tuple, dataframe\n",
    "* conditional statements\n",
    "* zip, enumerate\n",
    "* type(), dir(), getattrr() of an object"
   ]
  }
 ],
 "metadata": {
  "kernelspec": {
   "display_name": "Python 3.9.0 ('ProjectD')",
   "language": "python",
   "name": "python3"
  },
  "language_info": {
   "codemirror_mode": {
    "name": "ipython",
    "version": 3
   },
   "file_extension": ".py",
   "mimetype": "text/x-python",
   "name": "python",
   "nbconvert_exporter": "python",
   "pygments_lexer": "ipython3",
   "version": "3.9.0"
  },
  "vscode": {
   "interpreter": {
    "hash": "ef552399ec5fcc73973c57b337b46ed38471d03e55c97bf1436be5ae02fa8af8"
   }
  }
 },
 "nbformat": 4,
 "nbformat_minor": 5
}
